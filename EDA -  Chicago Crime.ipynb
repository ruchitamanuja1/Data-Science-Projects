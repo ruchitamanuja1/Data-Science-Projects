{
 "cells": [
  {
   "cell_type": "markdown",
   "metadata": {},
   "source": [
    "# Project 1 -  Analysis on Chicago Crimes (2015,2016,2017)\n",
    "\n"
   ]
  },
  {
   "cell_type": "markdown",
   "metadata": {},
   "source": [
    "The aim of this analysis is to visualize different crime trends , popular locations and time of the crimes in Chicago in 2015, 2016 and 2017"
   ]
  },
  {
   "cell_type": "code",
   "execution_count": 1,
   "metadata": {},
   "outputs": [],
   "source": [
    "#Importing Libraries\n",
    "from google.cloud import bigquery\n",
    "from google.cloud.bigquery import Dataset\n",
    "from google.cloud import storage\n",
    "import numpy as np\n",
    "import pandas as pd \n",
    "import matplotlib.pyplot as plt \n",
    "from matplotlib.colors import Colormap\n",
    "import seaborn as sns\n",
    "sns.set(style=\"darkgrid\")\n",
    "from scipy import stats \n",
    "import calendar"
   ]
  },
  {
   "cell_type": "code",
   "execution_count": 2,
   "metadata": {},
   "outputs": [],
   "source": [
    "key_path ='C:/ruchitaproject-3cc5d01e65a2.json'  "
   ]
  },
  {
   "cell_type": "code",
   "execution_count": 3,
   "metadata": {},
   "outputs": [],
   "source": [
    "client = bigquery.Client.from_service_account_json(key_path)"
   ]
  },
  {
   "cell_type": "code",
   "execution_count": 4,
   "metadata": {},
   "outputs": [
    {
     "data": {
      "text/plain": [
       "'ruchitaproject'"
      ]
     },
     "execution_count": 4,
     "metadata": {},
     "output_type": "execute_result"
    }
   ],
   "source": [
    "client.project"
   ]
  },
  {
   "cell_type": "code",
   "execution_count": 5,
   "metadata": {},
   "outputs": [
    {
     "name": "stdout",
     "output_type": "stream",
     "text": [
      "bigquery-public-data\n"
     ]
    }
   ],
   "source": [
    "\n",
    "client = bigquery.Client.from_service_account_json(key_path, project = 'bigquery-public-data')\n",
    "print(client.project)"
   ]
  },
  {
   "cell_type": "code",
   "execution_count": 6,
   "metadata": {},
   "outputs": [],
   "source": [
    "dataset_id = 'chicago_crime'\n",
    "dataset_ref = client.dataset(dataset_id, project = 'bigquery-public-data')"
   ]
  },
  {
   "cell_type": "code",
   "execution_count": 7,
   "metadata": {},
   "outputs": [
    {
     "data": {
      "text/plain": [
       "'/projects/bigquery-public-data/datasets/chicago_crime'"
      ]
     },
     "execution_count": 7,
     "metadata": {},
     "output_type": "execute_result"
    }
   ],
   "source": [
    "dataset_ref.path"
   ]
  },
  {
   "cell_type": "code",
   "execution_count": 8,
   "metadata": {},
   "outputs": [],
   "source": [
    "# function for listing tables in a dataset:\n",
    "def printTableList(client, dataset_id):\n",
    "    project = client.project\n",
    "    dataset_ref = client.dataset(dataset_id, project = project)    \n",
    "    tables = list(client.list_tables(dataset_ref))\n",
    "    if tables:\n",
    "        print('Tables in dataset {}:'.format(dataset_id))\n",
    "        for table in tables: \n",
    "            print('\\t{}'.format(table.table_id))\n",
    "        found = True\n",
    "    else:\n",
    "        print('{} dataset does not contain any tables.'.format(dataset_id))\n",
    "        found = False\n",
    "    return found"
   ]
  },
  {
   "cell_type": "code",
   "execution_count": 9,
   "metadata": {},
   "outputs": [
    {
     "name": "stdout",
     "output_type": "stream",
     "text": [
      "Tables in dataset chicago_crime:\n",
      "\tcrime\n"
     ]
    },
    {
     "data": {
      "text/plain": [
       "True"
      ]
     },
     "execution_count": 9,
     "metadata": {},
     "output_type": "execute_result"
    }
   ],
   "source": [
    "printTableList(client, dataset_id)\n"
   ]
  },
  {
   "cell_type": "code",
   "execution_count": 10,
   "metadata": {},
   "outputs": [],
   "source": [
    "table_id = 'crime'\n",
    "table_ref = dataset_ref.table(table_id)"
   ]
  },
  {
   "cell_type": "code",
   "execution_count": 11,
   "metadata": {},
   "outputs": [
    {
     "data": {
      "text/plain": [
       "'crime'"
      ]
     },
     "execution_count": 11,
     "metadata": {},
     "output_type": "execute_result"
    }
   ],
   "source": [
    "table_ref.table_id\n"
   ]
  },
  {
   "cell_type": "code",
   "execution_count": 12,
   "metadata": {},
   "outputs": [],
   "source": [
    "table = client.get_table(table_ref)  # API Request"
   ]
  },
  {
   "cell_type": "code",
   "execution_count": 13,
   "metadata": {},
   "outputs": [
    {
     "data": {
      "text/plain": [
       "google.cloud.bigquery.table.Table"
      ]
     },
     "execution_count": 13,
     "metadata": {},
     "output_type": "execute_result"
    }
   ],
   "source": [
    "type(table)\n"
   ]
  },
  {
   "cell_type": "code",
   "execution_count": 14,
   "metadata": {},
   "outputs": [],
   "source": [
    "# function to print a table schema:\n",
    "def printTableSchema(aTable):\n",
    "    schemas = list(aTable.schema)\n",
    "    if schemas:\n",
    "        print('Table schema for {}:'.format(aTable.table_id))\n",
    "        for aSchema in schemas:\n",
    "            print('\\t{0} {1}'.format(aSchema.name, aSchema.field_type))\n",
    "        found = True\n",
    "    else:\n",
    "        found = False\n",
    "    return found"
   ]
  },
  {
   "cell_type": "code",
   "execution_count": 15,
   "metadata": {},
   "outputs": [
    {
     "name": "stdout",
     "output_type": "stream",
     "text": [
      "Table schema for crime:\n",
      "\tunique_key INTEGER\n",
      "\tcase_number STRING\n",
      "\tdate TIMESTAMP\n",
      "\tblock STRING\n",
      "\tiucr STRING\n",
      "\tprimary_type STRING\n",
      "\tdescription STRING\n",
      "\tlocation_description STRING\n",
      "\tarrest BOOLEAN\n",
      "\tdomestic BOOLEAN\n",
      "\tbeat INTEGER\n",
      "\tdistrict INTEGER\n",
      "\tward INTEGER\n",
      "\tcommunity_area INTEGER\n",
      "\tfbi_code STRING\n",
      "\tx_coordinate FLOAT\n",
      "\ty_coordinate FLOAT\n",
      "\tyear INTEGER\n",
      "\tupdated_on TIMESTAMP\n",
      "\tlatitude FLOAT\n",
      "\tlongitude FLOAT\n",
      "\tlocation STRING\n"
     ]
    },
    {
     "data": {
      "text/plain": [
       "True"
      ]
     },
     "execution_count": 15,
     "metadata": {},
     "output_type": "execute_result"
    }
   ],
   "source": [
    "printTableSchema(table)\n"
   ]
  },
  {
   "cell_type": "code",
   "execution_count": 16,
   "metadata": {},
   "outputs": [],
   "source": [
    "sql = \"SELECT * FROM `bigquery-public-data.chicago_crime.crime` WHERE year IN (2015,2016,2017)\"\n",
    "client = bigquery.Client.from_service_account_json(key_path, project = 'ruchitaproject') #<<< your BigQuery project ID here!\n",
    "query_job = client.query(sql)"
   ]
  },
  {
   "cell_type": "code",
   "execution_count": 17,
   "metadata": {},
   "outputs": [
    {
     "data": {
      "text/plain": [
       "google.cloud.bigquery.job.QueryJob"
      ]
     },
     "execution_count": 17,
     "metadata": {},
     "output_type": "execute_result"
    }
   ],
   "source": [
    "type(query_job)\n"
   ]
  },
  {
   "cell_type": "code",
   "execution_count": 18,
   "metadata": {},
   "outputs": [],
   "source": [
    "df = query_job.to_dataframe() # Creating a pandas dataframe from API data"
   ]
  },
  {
   "cell_type": "code",
   "execution_count": 20,
   "metadata": {},
   "outputs": [
    {
     "name": "stdout",
     "output_type": "stream",
     "text": [
      "<class 'pandas.core.frame.DataFrame'>\n",
      "RangeIndex: 800181 entries, 0 to 800180\n",
      "Data columns (total 22 columns):\n",
      "unique_key              800181 non-null int64\n",
      "case_number             800181 non-null object\n",
      "date                    800181 non-null datetime64[ns, UTC]\n",
      "block                   800181 non-null object\n",
      "iucr                    800181 non-null object\n",
      "primary_type            800181 non-null object\n",
      "description             800181 non-null object\n",
      "location_description    797864 non-null object\n",
      "arrest                  800181 non-null bool\n",
      "domestic                800181 non-null bool\n",
      "beat                    800181 non-null int64\n",
      "district                800180 non-null float64\n",
      "ward                    800178 non-null float64\n",
      "community_area          800181 non-null int64\n",
      "fbi_code                800181 non-null object\n",
      "x_coordinate            790127 non-null float64\n",
      "y_coordinate            790127 non-null float64\n",
      "year                    800181 non-null int64\n",
      "updated_on              800181 non-null datetime64[ns, UTC]\n",
      "latitude                790127 non-null float64\n",
      "longitude               790127 non-null float64\n",
      "location                790127 non-null object\n",
      "dtypes: bool(2), datetime64[ns, UTC](2), float64(6), int64(4), object(8)\n",
      "memory usage: 123.6+ MB\n"
     ]
    }
   ],
   "source": [
    "df.info()"
   ]
  },
  {
   "cell_type": "code",
   "execution_count": 21,
   "metadata": {
    "scrolled": true
   },
   "outputs": [
    {
     "data": {
      "text/html": [
       "<div>\n",
       "<style scoped>\n",
       "    .dataframe tbody tr th:only-of-type {\n",
       "        vertical-align: middle;\n",
       "    }\n",
       "\n",
       "    .dataframe tbody tr th {\n",
       "        vertical-align: top;\n",
       "    }\n",
       "\n",
       "    .dataframe thead th {\n",
       "        text-align: right;\n",
       "    }\n",
       "</style>\n",
       "<table border=\"1\" class=\"dataframe\">\n",
       "  <thead>\n",
       "    <tr style=\"text-align: right;\">\n",
       "      <th></th>\n",
       "      <th>unique_key</th>\n",
       "      <th>case_number</th>\n",
       "      <th>date</th>\n",
       "      <th>block</th>\n",
       "      <th>iucr</th>\n",
       "      <th>primary_type</th>\n",
       "      <th>description</th>\n",
       "      <th>location_description</th>\n",
       "      <th>arrest</th>\n",
       "      <th>domestic</th>\n",
       "      <th>...</th>\n",
       "      <th>ward</th>\n",
       "      <th>community_area</th>\n",
       "      <th>fbi_code</th>\n",
       "      <th>x_coordinate</th>\n",
       "      <th>y_coordinate</th>\n",
       "      <th>year</th>\n",
       "      <th>updated_on</th>\n",
       "      <th>latitude</th>\n",
       "      <th>longitude</th>\n",
       "      <th>location</th>\n",
       "    </tr>\n",
       "  </thead>\n",
       "  <tbody>\n",
       "    <tr>\n",
       "      <th>0</th>\n",
       "      <td>22637</td>\n",
       "      <td>HZ361128</td>\n",
       "      <td>2016-07-23 15:37:00+00:00</td>\n",
       "      <td>104XX S WENTWORTH AVE</td>\n",
       "      <td>0110</td>\n",
       "      <td>HOMICIDE</td>\n",
       "      <td>FIRST DEGREE MURDER</td>\n",
       "      <td>STREET</td>\n",
       "      <td>False</td>\n",
       "      <td>False</td>\n",
       "      <td>...</td>\n",
       "      <td>34.0</td>\n",
       "      <td>49</td>\n",
       "      <td>01A</td>\n",
       "      <td>1176803.0</td>\n",
       "      <td>1835516.0</td>\n",
       "      <td>2016</td>\n",
       "      <td>2016-07-30 15:49:37+00:00</td>\n",
       "      <td>41.703996</td>\n",
       "      <td>-87.628191</td>\n",
       "      <td>(41.703995782, -87.628190772)</td>\n",
       "    </tr>\n",
       "    <tr>\n",
       "      <th>1</th>\n",
       "      <td>22605</td>\n",
       "      <td>HZ338757</td>\n",
       "      <td>2016-07-06 22:33:00+00:00</td>\n",
       "      <td>003XX W 106TH ST</td>\n",
       "      <td>0110</td>\n",
       "      <td>HOMICIDE</td>\n",
       "      <td>FIRST DEGREE MURDER</td>\n",
       "      <td>STREET</td>\n",
       "      <td>True</td>\n",
       "      <td>False</td>\n",
       "      <td>...</td>\n",
       "      <td>34.0</td>\n",
       "      <td>49</td>\n",
       "      <td>01A</td>\n",
       "      <td>1175896.0</td>\n",
       "      <td>1834634.0</td>\n",
       "      <td>2016</td>\n",
       "      <td>2016-07-13 15:50:12+00:00</td>\n",
       "      <td>41.701596</td>\n",
       "      <td>-87.631538</td>\n",
       "      <td>(41.701595778, -87.631538348)</td>\n",
       "    </tr>\n",
       "    <tr>\n",
       "      <th>2</th>\n",
       "      <td>22150</td>\n",
       "      <td>HY466381</td>\n",
       "      <td>2015-10-18 02:07:00+00:00</td>\n",
       "      <td>106XX S PRAIRIE AVE</td>\n",
       "      <td>0110</td>\n",
       "      <td>HOMICIDE</td>\n",
       "      <td>FIRST DEGREE MURDER</td>\n",
       "      <td>AUTO</td>\n",
       "      <td>False</td>\n",
       "      <td>False</td>\n",
       "      <td>...</td>\n",
       "      <td>9.0</td>\n",
       "      <td>49</td>\n",
       "      <td>01A</td>\n",
       "      <td>1179795.0</td>\n",
       "      <td>1834569.0</td>\n",
       "      <td>2015</td>\n",
       "      <td>2015-10-25 15:55:25+00:00</td>\n",
       "      <td>41.701329</td>\n",
       "      <td>-87.617264</td>\n",
       "      <td>(41.701329334, -87.61726351)</td>\n",
       "    </tr>\n",
       "    <tr>\n",
       "      <th>3</th>\n",
       "      <td>23724</td>\n",
       "      <td>JA543618</td>\n",
       "      <td>2017-12-10 05:15:00+00:00</td>\n",
       "      <td>106XX S PERRY AVE</td>\n",
       "      <td>0110</td>\n",
       "      <td>HOMICIDE</td>\n",
       "      <td>FIRST DEGREE MURDER</td>\n",
       "      <td>STREET</td>\n",
       "      <td>True</td>\n",
       "      <td>False</td>\n",
       "      <td>...</td>\n",
       "      <td>34.0</td>\n",
       "      <td>49</td>\n",
       "      <td>01A</td>\n",
       "      <td>1177481.0</td>\n",
       "      <td>1834530.0</td>\n",
       "      <td>2017</td>\n",
       "      <td>2018-01-05 15:52:20+00:00</td>\n",
       "      <td>41.701275</td>\n",
       "      <td>-87.625738</td>\n",
       "      <td>(41.701274797, -87.625737736)</td>\n",
       "    </tr>\n",
       "    <tr>\n",
       "      <th>4</th>\n",
       "      <td>22962</td>\n",
       "      <td>HZ519714</td>\n",
       "      <td>2016-11-17 22:46:00+00:00</td>\n",
       "      <td>004XX E 107TH ST</td>\n",
       "      <td>0110</td>\n",
       "      <td>HOMICIDE</td>\n",
       "      <td>FIRST DEGREE MURDER</td>\n",
       "      <td>HOUSE</td>\n",
       "      <td>False</td>\n",
       "      <td>False</td>\n",
       "      <td>...</td>\n",
       "      <td>9.0</td>\n",
       "      <td>49</td>\n",
       "      <td>01A</td>\n",
       "      <td>1181006.0</td>\n",
       "      <td>1834102.0</td>\n",
       "      <td>2016</td>\n",
       "      <td>2016-11-24 15:48:31+00:00</td>\n",
       "      <td>41.700020</td>\n",
       "      <td>-87.612844</td>\n",
       "      <td>(41.700020108, -87.612843569)</td>\n",
       "    </tr>\n",
       "  </tbody>\n",
       "</table>\n",
       "<p>5 rows × 22 columns</p>\n",
       "</div>"
      ],
      "text/plain": [
       "   unique_key case_number                      date                  block  \\\n",
       "0       22637    HZ361128 2016-07-23 15:37:00+00:00  104XX S WENTWORTH AVE   \n",
       "1       22605    HZ338757 2016-07-06 22:33:00+00:00       003XX W 106TH ST   \n",
       "2       22150    HY466381 2015-10-18 02:07:00+00:00    106XX S PRAIRIE AVE   \n",
       "3       23724    JA543618 2017-12-10 05:15:00+00:00      106XX S PERRY AVE   \n",
       "4       22962    HZ519714 2016-11-17 22:46:00+00:00       004XX E 107TH ST   \n",
       "\n",
       "   iucr primary_type          description location_description  arrest  \\\n",
       "0  0110     HOMICIDE  FIRST DEGREE MURDER               STREET   False   \n",
       "1  0110     HOMICIDE  FIRST DEGREE MURDER               STREET    True   \n",
       "2  0110     HOMICIDE  FIRST DEGREE MURDER                 AUTO   False   \n",
       "3  0110     HOMICIDE  FIRST DEGREE MURDER               STREET    True   \n",
       "4  0110     HOMICIDE  FIRST DEGREE MURDER                HOUSE   False   \n",
       "\n",
       "   domestic              ...                ward  community_area  fbi_code  \\\n",
       "0     False              ...                34.0              49       01A   \n",
       "1     False              ...                34.0              49       01A   \n",
       "2     False              ...                 9.0              49       01A   \n",
       "3     False              ...                34.0              49       01A   \n",
       "4     False              ...                 9.0              49       01A   \n",
       "\n",
       "   x_coordinate y_coordinate  year                updated_on   latitude  \\\n",
       "0     1176803.0    1835516.0  2016 2016-07-30 15:49:37+00:00  41.703996   \n",
       "1     1175896.0    1834634.0  2016 2016-07-13 15:50:12+00:00  41.701596   \n",
       "2     1179795.0    1834569.0  2015 2015-10-25 15:55:25+00:00  41.701329   \n",
       "3     1177481.0    1834530.0  2017 2018-01-05 15:52:20+00:00  41.701275   \n",
       "4     1181006.0    1834102.0  2016 2016-11-24 15:48:31+00:00  41.700020   \n",
       "\n",
       "   longitude                       location  \n",
       "0 -87.628191  (41.703995782, -87.628190772)  \n",
       "1 -87.631538  (41.701595778, -87.631538348)  \n",
       "2 -87.617264   (41.701329334, -87.61726351)  \n",
       "3 -87.625738  (41.701274797, -87.625737736)  \n",
       "4 -87.612844  (41.700020108, -87.612843569)  \n",
       "\n",
       "[5 rows x 22 columns]"
      ]
     },
     "execution_count": 21,
     "metadata": {},
     "output_type": "execute_result"
    }
   ],
   "source": [
    "df.head()"
   ]
  },
  {
   "cell_type": "code",
   "execution_count": 22,
   "metadata": {},
   "outputs": [],
   "source": [
    "df['date'] = pd.to_datetime(df['date'], format = '%y/%m/%d: %I:%M:%S %p') # converting date format "
   ]
  },
  {
   "cell_type": "code",
   "execution_count": 23,
   "metadata": {},
   "outputs": [],
   "source": [
    "df['month'] = (df['date'].dt.month).apply(lambda x: calendar.month_abbr[x])\n",
    "df['month'] = pd.Categorical(df['month'] , categories=['Jan','Feb','Mar','Apr','May','Jun','Jul','Aug','Sep','Oct','Nov','Dec'], ordered=True)\n",
    "#months = ['Jan','Feb','Mar','Apr','May','Jun','Jul','Aug','Sep','Oct','Nov','Dec']\n",
    "#df.head(10)"
   ]
  },
  {
   "cell_type": "code",
   "execution_count": 24,
   "metadata": {},
   "outputs": [
    {
     "data": {
      "text/html": [
       "<div>\n",
       "<style scoped>\n",
       "    .dataframe tbody tr th:only-of-type {\n",
       "        vertical-align: middle;\n",
       "    }\n",
       "\n",
       "    .dataframe tbody tr th {\n",
       "        vertical-align: top;\n",
       "    }\n",
       "\n",
       "    .dataframe thead th {\n",
       "        text-align: right;\n",
       "    }\n",
       "</style>\n",
       "<table border=\"1\" class=\"dataframe\">\n",
       "  <thead>\n",
       "    <tr style=\"text-align: right;\">\n",
       "      <th></th>\n",
       "      <th>unique_key</th>\n",
       "      <th>case_number</th>\n",
       "      <th>date</th>\n",
       "      <th>block</th>\n",
       "      <th>iucr</th>\n",
       "      <th>primary_type</th>\n",
       "      <th>description</th>\n",
       "      <th>location_description</th>\n",
       "      <th>arrest</th>\n",
       "      <th>domestic</th>\n",
       "      <th>...</th>\n",
       "      <th>fbi_code</th>\n",
       "      <th>x_coordinate</th>\n",
       "      <th>y_coordinate</th>\n",
       "      <th>year</th>\n",
       "      <th>updated_on</th>\n",
       "      <th>latitude</th>\n",
       "      <th>longitude</th>\n",
       "      <th>location</th>\n",
       "      <th>month</th>\n",
       "      <th>weekday</th>\n",
       "    </tr>\n",
       "  </thead>\n",
       "  <tbody>\n",
       "    <tr>\n",
       "      <th>0</th>\n",
       "      <td>22637</td>\n",
       "      <td>HZ361128</td>\n",
       "      <td>2016-07-23 15:37:00+00:00</td>\n",
       "      <td>104XX S WENTWORTH AVE</td>\n",
       "      <td>0110</td>\n",
       "      <td>HOMICIDE</td>\n",
       "      <td>FIRST DEGREE MURDER</td>\n",
       "      <td>STREET</td>\n",
       "      <td>False</td>\n",
       "      <td>False</td>\n",
       "      <td>...</td>\n",
       "      <td>01A</td>\n",
       "      <td>1176803.0</td>\n",
       "      <td>1835516.0</td>\n",
       "      <td>2016</td>\n",
       "      <td>2016-07-30 15:49:37+00:00</td>\n",
       "      <td>41.703996</td>\n",
       "      <td>-87.628191</td>\n",
       "      <td>(41.703995782, -87.628190772)</td>\n",
       "      <td>Jul</td>\n",
       "      <td>Saturday</td>\n",
       "    </tr>\n",
       "    <tr>\n",
       "      <th>1</th>\n",
       "      <td>22605</td>\n",
       "      <td>HZ338757</td>\n",
       "      <td>2016-07-06 22:33:00+00:00</td>\n",
       "      <td>003XX W 106TH ST</td>\n",
       "      <td>0110</td>\n",
       "      <td>HOMICIDE</td>\n",
       "      <td>FIRST DEGREE MURDER</td>\n",
       "      <td>STREET</td>\n",
       "      <td>True</td>\n",
       "      <td>False</td>\n",
       "      <td>...</td>\n",
       "      <td>01A</td>\n",
       "      <td>1175896.0</td>\n",
       "      <td>1834634.0</td>\n",
       "      <td>2016</td>\n",
       "      <td>2016-07-13 15:50:12+00:00</td>\n",
       "      <td>41.701596</td>\n",
       "      <td>-87.631538</td>\n",
       "      <td>(41.701595778, -87.631538348)</td>\n",
       "      <td>Jul</td>\n",
       "      <td>Wednesday</td>\n",
       "    </tr>\n",
       "    <tr>\n",
       "      <th>2</th>\n",
       "      <td>22150</td>\n",
       "      <td>HY466381</td>\n",
       "      <td>2015-10-18 02:07:00+00:00</td>\n",
       "      <td>106XX S PRAIRIE AVE</td>\n",
       "      <td>0110</td>\n",
       "      <td>HOMICIDE</td>\n",
       "      <td>FIRST DEGREE MURDER</td>\n",
       "      <td>AUTO</td>\n",
       "      <td>False</td>\n",
       "      <td>False</td>\n",
       "      <td>...</td>\n",
       "      <td>01A</td>\n",
       "      <td>1179795.0</td>\n",
       "      <td>1834569.0</td>\n",
       "      <td>2015</td>\n",
       "      <td>2015-10-25 15:55:25+00:00</td>\n",
       "      <td>41.701329</td>\n",
       "      <td>-87.617264</td>\n",
       "      <td>(41.701329334, -87.61726351)</td>\n",
       "      <td>Oct</td>\n",
       "      <td>Sunday</td>\n",
       "    </tr>\n",
       "    <tr>\n",
       "      <th>3</th>\n",
       "      <td>23724</td>\n",
       "      <td>JA543618</td>\n",
       "      <td>2017-12-10 05:15:00+00:00</td>\n",
       "      <td>106XX S PERRY AVE</td>\n",
       "      <td>0110</td>\n",
       "      <td>HOMICIDE</td>\n",
       "      <td>FIRST DEGREE MURDER</td>\n",
       "      <td>STREET</td>\n",
       "      <td>True</td>\n",
       "      <td>False</td>\n",
       "      <td>...</td>\n",
       "      <td>01A</td>\n",
       "      <td>1177481.0</td>\n",
       "      <td>1834530.0</td>\n",
       "      <td>2017</td>\n",
       "      <td>2018-01-05 15:52:20+00:00</td>\n",
       "      <td>41.701275</td>\n",
       "      <td>-87.625738</td>\n",
       "      <td>(41.701274797, -87.625737736)</td>\n",
       "      <td>Dec</td>\n",
       "      <td>Sunday</td>\n",
       "    </tr>\n",
       "    <tr>\n",
       "      <th>4</th>\n",
       "      <td>22962</td>\n",
       "      <td>HZ519714</td>\n",
       "      <td>2016-11-17 22:46:00+00:00</td>\n",
       "      <td>004XX E 107TH ST</td>\n",
       "      <td>0110</td>\n",
       "      <td>HOMICIDE</td>\n",
       "      <td>FIRST DEGREE MURDER</td>\n",
       "      <td>HOUSE</td>\n",
       "      <td>False</td>\n",
       "      <td>False</td>\n",
       "      <td>...</td>\n",
       "      <td>01A</td>\n",
       "      <td>1181006.0</td>\n",
       "      <td>1834102.0</td>\n",
       "      <td>2016</td>\n",
       "      <td>2016-11-24 15:48:31+00:00</td>\n",
       "      <td>41.700020</td>\n",
       "      <td>-87.612844</td>\n",
       "      <td>(41.700020108, -87.612843569)</td>\n",
       "      <td>Nov</td>\n",
       "      <td>Thursday</td>\n",
       "    </tr>\n",
       "    <tr>\n",
       "      <th>5</th>\n",
       "      <td>23028</td>\n",
       "      <td>HZ554936</td>\n",
       "      <td>2016-12-17 13:25:00+00:00</td>\n",
       "      <td>001XX W 105TH ST</td>\n",
       "      <td>0110</td>\n",
       "      <td>HOMICIDE</td>\n",
       "      <td>FIRST DEGREE MURDER</td>\n",
       "      <td>HOUSE</td>\n",
       "      <td>True</td>\n",
       "      <td>False</td>\n",
       "      <td>...</td>\n",
       "      <td>01A</td>\n",
       "      <td>1177249.0</td>\n",
       "      <td>1835331.0</td>\n",
       "      <td>2016</td>\n",
       "      <td>2017-03-30 15:49:29+00:00</td>\n",
       "      <td>41.703478</td>\n",
       "      <td>-87.626563</td>\n",
       "      <td>(41.703478083, -87.626563168)</td>\n",
       "      <td>Dec</td>\n",
       "      <td>Saturday</td>\n",
       "    </tr>\n",
       "    <tr>\n",
       "      <th>6</th>\n",
       "      <td>22714</td>\n",
       "      <td>HZ396660</td>\n",
       "      <td>2016-08-18 00:00:00+00:00</td>\n",
       "      <td>105XX S WENTWORTH AVE</td>\n",
       "      <td>0110</td>\n",
       "      <td>HOMICIDE</td>\n",
       "      <td>FIRST DEGREE MURDER</td>\n",
       "      <td>PORCH</td>\n",
       "      <td>False</td>\n",
       "      <td>False</td>\n",
       "      <td>...</td>\n",
       "      <td>01A</td>\n",
       "      <td>1176814.0</td>\n",
       "      <td>1835095.0</td>\n",
       "      <td>2016</td>\n",
       "      <td>2016-08-25 15:50:02+00:00</td>\n",
       "      <td>41.702840</td>\n",
       "      <td>-87.628163</td>\n",
       "      <td>(41.702840251, -87.628163116)</td>\n",
       "      <td>Aug</td>\n",
       "      <td>Thursday</td>\n",
       "    </tr>\n",
       "    <tr>\n",
       "      <th>7</th>\n",
       "      <td>23098</td>\n",
       "      <td>JA124638</td>\n",
       "      <td>2017-01-21 21:16:00+00:00</td>\n",
       "      <td>000XX W 104TH PL</td>\n",
       "      <td>0110</td>\n",
       "      <td>HOMICIDE</td>\n",
       "      <td>FIRST DEGREE MURDER</td>\n",
       "      <td>APARTMENT</td>\n",
       "      <td>True</td>\n",
       "      <td>False</td>\n",
       "      <td>...</td>\n",
       "      <td>01A</td>\n",
       "      <td>1177830.0</td>\n",
       "      <td>1835678.0</td>\n",
       "      <td>2017</td>\n",
       "      <td>2017-01-28 15:49:03+00:00</td>\n",
       "      <td>41.704417</td>\n",
       "      <td>-87.624425</td>\n",
       "      <td>(41.704417195, -87.62442522)</td>\n",
       "      <td>Jan</td>\n",
       "      <td>Saturday</td>\n",
       "    </tr>\n",
       "    <tr>\n",
       "      <th>8</th>\n",
       "      <td>23026</td>\n",
       "      <td>HZ554936</td>\n",
       "      <td>2016-12-17 12:40:00+00:00</td>\n",
       "      <td>001XX W 105TH ST</td>\n",
       "      <td>0110</td>\n",
       "      <td>HOMICIDE</td>\n",
       "      <td>FIRST DEGREE MURDER</td>\n",
       "      <td>HOUSE</td>\n",
       "      <td>True</td>\n",
       "      <td>False</td>\n",
       "      <td>...</td>\n",
       "      <td>01A</td>\n",
       "      <td>1177249.0</td>\n",
       "      <td>1835331.0</td>\n",
       "      <td>2016</td>\n",
       "      <td>2017-03-30 15:49:29+00:00</td>\n",
       "      <td>41.703478</td>\n",
       "      <td>-87.626563</td>\n",
       "      <td>(41.703478083, -87.626563168)</td>\n",
       "      <td>Dec</td>\n",
       "      <td>Saturday</td>\n",
       "    </tr>\n",
       "    <tr>\n",
       "      <th>9</th>\n",
       "      <td>23635</td>\n",
       "      <td>JA465256</td>\n",
       "      <td>2017-10-10 01:43:00+00:00</td>\n",
       "      <td>002XX W 107TH ST</td>\n",
       "      <td>0110</td>\n",
       "      <td>HOMICIDE</td>\n",
       "      <td>FIRST DEGREE MURDER</td>\n",
       "      <td>STREET</td>\n",
       "      <td>False</td>\n",
       "      <td>False</td>\n",
       "      <td>...</td>\n",
       "      <td>01A</td>\n",
       "      <td>1176443.0</td>\n",
       "      <td>1833983.0</td>\n",
       "      <td>2017</td>\n",
       "      <td>2017-10-17 15:53:24+00:00</td>\n",
       "      <td>41.699797</td>\n",
       "      <td>-87.629555</td>\n",
       "      <td>(41.699797091, -87.629554895)</td>\n",
       "      <td>Oct</td>\n",
       "      <td>Tuesday</td>\n",
       "    </tr>\n",
       "  </tbody>\n",
       "</table>\n",
       "<p>10 rows × 24 columns</p>\n",
       "</div>"
      ],
      "text/plain": [
       "   unique_key case_number                      date                  block  \\\n",
       "0       22637    HZ361128 2016-07-23 15:37:00+00:00  104XX S WENTWORTH AVE   \n",
       "1       22605    HZ338757 2016-07-06 22:33:00+00:00       003XX W 106TH ST   \n",
       "2       22150    HY466381 2015-10-18 02:07:00+00:00    106XX S PRAIRIE AVE   \n",
       "3       23724    JA543618 2017-12-10 05:15:00+00:00      106XX S PERRY AVE   \n",
       "4       22962    HZ519714 2016-11-17 22:46:00+00:00       004XX E 107TH ST   \n",
       "5       23028    HZ554936 2016-12-17 13:25:00+00:00       001XX W 105TH ST   \n",
       "6       22714    HZ396660 2016-08-18 00:00:00+00:00  105XX S WENTWORTH AVE   \n",
       "7       23098    JA124638 2017-01-21 21:16:00+00:00       000XX W 104TH PL   \n",
       "8       23026    HZ554936 2016-12-17 12:40:00+00:00       001XX W 105TH ST   \n",
       "9       23635    JA465256 2017-10-10 01:43:00+00:00       002XX W 107TH ST   \n",
       "\n",
       "   iucr primary_type          description location_description  arrest  \\\n",
       "0  0110     HOMICIDE  FIRST DEGREE MURDER               STREET   False   \n",
       "1  0110     HOMICIDE  FIRST DEGREE MURDER               STREET    True   \n",
       "2  0110     HOMICIDE  FIRST DEGREE MURDER                 AUTO   False   \n",
       "3  0110     HOMICIDE  FIRST DEGREE MURDER               STREET    True   \n",
       "4  0110     HOMICIDE  FIRST DEGREE MURDER                HOUSE   False   \n",
       "5  0110     HOMICIDE  FIRST DEGREE MURDER                HOUSE    True   \n",
       "6  0110     HOMICIDE  FIRST DEGREE MURDER                PORCH   False   \n",
       "7  0110     HOMICIDE  FIRST DEGREE MURDER            APARTMENT    True   \n",
       "8  0110     HOMICIDE  FIRST DEGREE MURDER                HOUSE    True   \n",
       "9  0110     HOMICIDE  FIRST DEGREE MURDER               STREET   False   \n",
       "\n",
       "   domestic    ...      fbi_code  x_coordinate  y_coordinate  year  \\\n",
       "0     False    ...           01A     1176803.0     1835516.0  2016   \n",
       "1     False    ...           01A     1175896.0     1834634.0  2016   \n",
       "2     False    ...           01A     1179795.0     1834569.0  2015   \n",
       "3     False    ...           01A     1177481.0     1834530.0  2017   \n",
       "4     False    ...           01A     1181006.0     1834102.0  2016   \n",
       "5     False    ...           01A     1177249.0     1835331.0  2016   \n",
       "6     False    ...           01A     1176814.0     1835095.0  2016   \n",
       "7     False    ...           01A     1177830.0     1835678.0  2017   \n",
       "8     False    ...           01A     1177249.0     1835331.0  2016   \n",
       "9     False    ...           01A     1176443.0     1833983.0  2017   \n",
       "\n",
       "                 updated_on   latitude  longitude  \\\n",
       "0 2016-07-30 15:49:37+00:00  41.703996 -87.628191   \n",
       "1 2016-07-13 15:50:12+00:00  41.701596 -87.631538   \n",
       "2 2015-10-25 15:55:25+00:00  41.701329 -87.617264   \n",
       "3 2018-01-05 15:52:20+00:00  41.701275 -87.625738   \n",
       "4 2016-11-24 15:48:31+00:00  41.700020 -87.612844   \n",
       "5 2017-03-30 15:49:29+00:00  41.703478 -87.626563   \n",
       "6 2016-08-25 15:50:02+00:00  41.702840 -87.628163   \n",
       "7 2017-01-28 15:49:03+00:00  41.704417 -87.624425   \n",
       "8 2017-03-30 15:49:29+00:00  41.703478 -87.626563   \n",
       "9 2017-10-17 15:53:24+00:00  41.699797 -87.629555   \n",
       "\n",
       "                        location month    weekday  \n",
       "0  (41.703995782, -87.628190772)   Jul   Saturday  \n",
       "1  (41.701595778, -87.631538348)   Jul  Wednesday  \n",
       "2   (41.701329334, -87.61726351)   Oct     Sunday  \n",
       "3  (41.701274797, -87.625737736)   Dec     Sunday  \n",
       "4  (41.700020108, -87.612843569)   Nov   Thursday  \n",
       "5  (41.703478083, -87.626563168)   Dec   Saturday  \n",
       "6  (41.702840251, -87.628163116)   Aug   Thursday  \n",
       "7   (41.704417195, -87.62442522)   Jan   Saturday  \n",
       "8  (41.703478083, -87.626563168)   Dec   Saturday  \n",
       "9  (41.699797091, -87.629554895)   Oct    Tuesday  \n",
       "\n",
       "[10 rows x 24 columns]"
      ]
     },
     "execution_count": 24,
     "metadata": {},
     "output_type": "execute_result"
    }
   ],
   "source": [
    "df['weekday'] = df['date'].dt.weekday_name\n",
    "df['weekday'] = pd.Categorical(df['weekday'], categories = ['Monday', 'Tuesday', 'Wednesday','Thursday', 'Friday', 'Saturday', 'Sunday'],ordered = True)\n",
    "df.head(10)"
   ]
  },
  {
   "cell_type": "code",
   "execution_count": 25,
   "metadata": {},
   "outputs": [],
   "source": [
    "#df.to_csv('chicago_crime.csv', sep=',')"
   ]
  },
  {
   "cell_type": "code",
   "execution_count": 26,
   "metadata": {},
   "outputs": [
    {
     "data": {
      "text/plain": [
       "800181"
      ]
     },
     "execution_count": 26,
     "metadata": {},
     "output_type": "execute_result"
    }
   ],
   "source": [
    "df.shape[0]"
   ]
  },
  {
   "cell_type": "code",
   "execution_count": 27,
   "metadata": {},
   "outputs": [],
   "source": [
    "#Dropping Non Criminal rows \n",
    "df1 = df[df.primary_type != 'NON - CRIMINAL']"
   ]
  },
  {
   "cell_type": "code",
   "execution_count": 28,
   "metadata": {},
   "outputs": [
    {
     "name": "stderr",
     "output_type": "stream",
     "text": [
      "C:\\Users\\rmanuja\\AppData\\Local\\Continuum\\anaconda3\\lib\\site-packages\\ipykernel_launcher.py:1: UserWarning: Boolean Series key will be reindexed to match DataFrame index.\n",
      "  \"\"\"Entry point for launching an IPython kernel.\n"
     ]
    }
   ],
   "source": [
    "df2 = df1[df.primary_type != 'NON-CRIMINAL']"
   ]
  },
  {
   "cell_type": "code",
   "execution_count": 29,
   "metadata": {},
   "outputs": [
    {
     "name": "stderr",
     "output_type": "stream",
     "text": [
      "C:\\Users\\rmanuja\\AppData\\Local\\Continuum\\anaconda3\\lib\\site-packages\\ipykernel_launcher.py:1: UserWarning: Boolean Series key will be reindexed to match DataFrame index.\n",
      "  \"\"\"Entry point for launching an IPython kernel.\n"
     ]
    }
   ],
   "source": [
    "crimedf = df2[df.primary_type != 'NON-CRIMINAL (SUBJECT SPECIFIED)']"
   ]
  },
  {
   "cell_type": "code",
   "execution_count": 30,
   "metadata": {},
   "outputs": [
    {
     "data": {
      "text/plain": [
       "800050"
      ]
     },
     "execution_count": 30,
     "metadata": {},
     "output_type": "execute_result"
    }
   ],
   "source": [
    "crimedf.shape[0]"
   ]
  },
  {
   "cell_type": "code",
   "execution_count": 31,
   "metadata": {
    "scrolled": false
   },
   "outputs": [
    {
     "data": {
      "text/html": [
       "<div>\n",
       "<style scoped>\n",
       "    .dataframe tbody tr th:only-of-type {\n",
       "        vertical-align: middle;\n",
       "    }\n",
       "\n",
       "    .dataframe tbody tr th {\n",
       "        vertical-align: top;\n",
       "    }\n",
       "\n",
       "    .dataframe thead th {\n",
       "        text-align: right;\n",
       "    }\n",
       "</style>\n",
       "<table border=\"1\" class=\"dataframe\">\n",
       "  <thead>\n",
       "    <tr style=\"text-align: right;\">\n",
       "      <th></th>\n",
       "      <th>unique_key</th>\n",
       "      <th>beat</th>\n",
       "      <th>district</th>\n",
       "      <th>ward</th>\n",
       "      <th>community_area</th>\n",
       "      <th>x_coordinate</th>\n",
       "      <th>y_coordinate</th>\n",
       "      <th>year</th>\n",
       "      <th>latitude</th>\n",
       "      <th>longitude</th>\n",
       "    </tr>\n",
       "  </thead>\n",
       "  <tbody>\n",
       "    <tr>\n",
       "      <th>count</th>\n",
       "      <td>8.000500e+05</td>\n",
       "      <td>800050.000000</td>\n",
       "      <td>800049.000000</td>\n",
       "      <td>800047.000000</td>\n",
       "      <td>800050.000000</td>\n",
       "      <td>7.900020e+05</td>\n",
       "      <td>7.900020e+05</td>\n",
       "      <td>800050.000000</td>\n",
       "      <td>790002.000000</td>\n",
       "      <td>790002.000000</td>\n",
       "    </tr>\n",
       "    <tr>\n",
       "      <th>mean</th>\n",
       "      <td>1.056122e+07</td>\n",
       "      <td>1145.831183</td>\n",
       "      <td>11.229636</td>\n",
       "      <td>23.049893</td>\n",
       "      <td>37.010909</td>\n",
       "      <td>1.164620e+06</td>\n",
       "      <td>1.886180e+06</td>\n",
       "      <td>2016.004693</td>\n",
       "      <td>41.843273</td>\n",
       "      <td>-87.671419</td>\n",
       "    </tr>\n",
       "    <tr>\n",
       "      <th>std</th>\n",
       "      <td>6.397165e+05</td>\n",
       "      <td>693.615784</td>\n",
       "      <td>6.929057</td>\n",
       "      <td>13.961206</td>\n",
       "      <td>21.402733</td>\n",
       "      <td>1.630017e+04</td>\n",
       "      <td>3.120093e+04</td>\n",
       "      <td>0.814968</td>\n",
       "      <td>0.085808</td>\n",
       "      <td>0.059338</td>\n",
       "    </tr>\n",
       "    <tr>\n",
       "      <th>min</th>\n",
       "      <td>2.171400e+04</td>\n",
       "      <td>111.000000</td>\n",
       "      <td>1.000000</td>\n",
       "      <td>1.000000</td>\n",
       "      <td>0.000000</td>\n",
       "      <td>1.094231e+06</td>\n",
       "      <td>1.813897e+06</td>\n",
       "      <td>2015.000000</td>\n",
       "      <td>41.644590</td>\n",
       "      <td>-87.928909</td>\n",
       "    </tr>\n",
       "    <tr>\n",
       "      <th>25%</th>\n",
       "      <td>1.026317e+07</td>\n",
       "      <td>612.000000</td>\n",
       "      <td>6.000000</td>\n",
       "      <td>10.000000</td>\n",
       "      <td>23.000000</td>\n",
       "      <td>1.152854e+06</td>\n",
       "      <td>1.859105e+06</td>\n",
       "      <td>2015.000000</td>\n",
       "      <td>41.768757</td>\n",
       "      <td>-87.714148</td>\n",
       "    </tr>\n",
       "    <tr>\n",
       "      <th>50%</th>\n",
       "      <td>1.059765e+07</td>\n",
       "      <td>1024.000000</td>\n",
       "      <td>10.000000</td>\n",
       "      <td>24.000000</td>\n",
       "      <td>32.000000</td>\n",
       "      <td>1.166321e+06</td>\n",
       "      <td>1.893093e+06</td>\n",
       "      <td>2016.000000</td>\n",
       "      <td>41.862295</td>\n",
       "      <td>-87.665176</td>\n",
       "    </tr>\n",
       "    <tr>\n",
       "      <th>75%</th>\n",
       "      <td>1.091356e+07</td>\n",
       "      <td>1712.000000</td>\n",
       "      <td>17.000000</td>\n",
       "      <td>34.000000</td>\n",
       "      <td>55.000000</td>\n",
       "      <td>1.176405e+06</td>\n",
       "      <td>1.908802e+06</td>\n",
       "      <td>2017.000000</td>\n",
       "      <td>41.905531</td>\n",
       "      <td>-87.627910</td>\n",
       "    </tr>\n",
       "    <tr>\n",
       "      <th>max</th>\n",
       "      <td>1.144630e+07</td>\n",
       "      <td>2535.000000</td>\n",
       "      <td>31.000000</td>\n",
       "      <td>50.000000</td>\n",
       "      <td>77.000000</td>\n",
       "      <td>1.205119e+06</td>\n",
       "      <td>1.951535e+06</td>\n",
       "      <td>2017.000000</td>\n",
       "      <td>42.022671</td>\n",
       "      <td>-87.524529</td>\n",
       "    </tr>\n",
       "  </tbody>\n",
       "</table>\n",
       "</div>"
      ],
      "text/plain": [
       "         unique_key           beat       district           ward  \\\n",
       "count  8.000500e+05  800050.000000  800049.000000  800047.000000   \n",
       "mean   1.056122e+07    1145.831183      11.229636      23.049893   \n",
       "std    6.397165e+05     693.615784       6.929057      13.961206   \n",
       "min    2.171400e+04     111.000000       1.000000       1.000000   \n",
       "25%    1.026317e+07     612.000000       6.000000      10.000000   \n",
       "50%    1.059765e+07    1024.000000      10.000000      24.000000   \n",
       "75%    1.091356e+07    1712.000000      17.000000      34.000000   \n",
       "max    1.144630e+07    2535.000000      31.000000      50.000000   \n",
       "\n",
       "       community_area  x_coordinate  y_coordinate           year  \\\n",
       "count   800050.000000  7.900020e+05  7.900020e+05  800050.000000   \n",
       "mean        37.010909  1.164620e+06  1.886180e+06    2016.004693   \n",
       "std         21.402733  1.630017e+04  3.120093e+04       0.814968   \n",
       "min          0.000000  1.094231e+06  1.813897e+06    2015.000000   \n",
       "25%         23.000000  1.152854e+06  1.859105e+06    2015.000000   \n",
       "50%         32.000000  1.166321e+06  1.893093e+06    2016.000000   \n",
       "75%         55.000000  1.176405e+06  1.908802e+06    2017.000000   \n",
       "max         77.000000  1.205119e+06  1.951535e+06    2017.000000   \n",
       "\n",
       "            latitude      longitude  \n",
       "count  790002.000000  790002.000000  \n",
       "mean       41.843273     -87.671419  \n",
       "std         0.085808       0.059338  \n",
       "min        41.644590     -87.928909  \n",
       "25%        41.768757     -87.714148  \n",
       "50%        41.862295     -87.665176  \n",
       "75%        41.905531     -87.627910  \n",
       "max        42.022671     -87.524529  "
      ]
     },
     "execution_count": 31,
     "metadata": {},
     "output_type": "execute_result"
    }
   ],
   "source": [
    "crimedf.describe()"
   ]
  },
  {
   "cell_type": "code",
   "execution_count": 32,
   "metadata": {},
   "outputs": [
    {
     "data": {
      "text/plain": [
       "count     800050\n",
       "unique        30\n",
       "top        THEFT\n",
       "freq      183238\n",
       "Name: primary_type, dtype: object"
      ]
     },
     "execution_count": 32,
     "metadata": {},
     "output_type": "execute_result"
    }
   ],
   "source": [
    "crimedf.primary_type.describe()"
   ]
  },
  {
   "cell_type": "code",
   "execution_count": 33,
   "metadata": {},
   "outputs": [
    {
     "data": {
      "text/plain": [
       "count     800050\n",
       "unique         7\n",
       "top       Friday\n",
       "freq      120180\n",
       "Name: weekday, dtype: object"
      ]
     },
     "execution_count": 33,
     "metadata": {},
     "output_type": "execute_result"
    }
   ],
   "source": [
    "crimedf.weekday.describe()"
   ]
  },
  {
   "cell_type": "code",
   "execution_count": 34,
   "metadata": {},
   "outputs": [
    {
     "data": {
      "text/html": [
       "<div>\n",
       "<style scoped>\n",
       "    .dataframe tbody tr th:only-of-type {\n",
       "        vertical-align: middle;\n",
       "    }\n",
       "\n",
       "    .dataframe tbody tr th {\n",
       "        vertical-align: top;\n",
       "    }\n",
       "\n",
       "    .dataframe thead th {\n",
       "        text-align: right;\n",
       "    }\n",
       "</style>\n",
       "<table border=\"1\" class=\"dataframe\">\n",
       "  <thead>\n",
       "    <tr style=\"text-align: right;\">\n",
       "      <th></th>\n",
       "      <th>unique_key</th>\n",
       "      <th>arrest</th>\n",
       "      <th>domestic</th>\n",
       "      <th>beat</th>\n",
       "      <th>district</th>\n",
       "      <th>ward</th>\n",
       "      <th>community_area</th>\n",
       "      <th>x_coordinate</th>\n",
       "      <th>y_coordinate</th>\n",
       "      <th>year</th>\n",
       "      <th>latitude</th>\n",
       "      <th>longitude</th>\n",
       "    </tr>\n",
       "  </thead>\n",
       "  <tbody>\n",
       "    <tr>\n",
       "      <th>unique_key</th>\n",
       "      <td>1.000000</td>\n",
       "      <td>-0.057050</td>\n",
       "      <td>0.007914</td>\n",
       "      <td>0.007748</td>\n",
       "      <td>0.007800</td>\n",
       "      <td>0.018140</td>\n",
       "      <td>-0.024397</td>\n",
       "      <td>0.008048</td>\n",
       "      <td>0.022084</td>\n",
       "      <td>0.540566</td>\n",
       "      <td>0.022004</td>\n",
       "      <td>0.008457</td>\n",
       "    </tr>\n",
       "    <tr>\n",
       "      <th>arrest</th>\n",
       "      <td>-0.057050</td>\n",
       "      <td>1.000000</td>\n",
       "      <td>-0.036254</td>\n",
       "      <td>-0.026920</td>\n",
       "      <td>-0.027044</td>\n",
       "      <td>-0.017626</td>\n",
       "      <td>0.032204</td>\n",
       "      <td>-0.032417</td>\n",
       "      <td>-0.034031</td>\n",
       "      <td>-0.068693</td>\n",
       "      <td>-0.033829</td>\n",
       "      <td>-0.033202</td>\n",
       "    </tr>\n",
       "    <tr>\n",
       "      <th>domestic</th>\n",
       "      <td>0.007914</td>\n",
       "      <td>-0.036254</td>\n",
       "      <td>1.000000</td>\n",
       "      <td>-0.053889</td>\n",
       "      <td>-0.053885</td>\n",
       "      <td>-0.078030</td>\n",
       "      <td>0.091475</td>\n",
       "      <td>0.019117</td>\n",
       "      <td>-0.107794</td>\n",
       "      <td>0.000786</td>\n",
       "      <td>-0.107638</td>\n",
       "      <td>0.017586</td>\n",
       "    </tr>\n",
       "    <tr>\n",
       "      <th>beat</th>\n",
       "      <td>0.007748</td>\n",
       "      <td>-0.026920</td>\n",
       "      <td>-0.053889</td>\n",
       "      <td>1.000000</td>\n",
       "      <td>0.999694</td>\n",
       "      <td>0.671517</td>\n",
       "      <td>-0.487524</td>\n",
       "      <td>-0.552613</td>\n",
       "      <td>0.627117</td>\n",
       "      <td>0.000836</td>\n",
       "      <td>0.627952</td>\n",
       "      <td>-0.547700</td>\n",
       "    </tr>\n",
       "    <tr>\n",
       "      <th>district</th>\n",
       "      <td>0.007800</td>\n",
       "      <td>-0.027044</td>\n",
       "      <td>-0.053885</td>\n",
       "      <td>0.999694</td>\n",
       "      <td>1.000000</td>\n",
       "      <td>0.672809</td>\n",
       "      <td>-0.488083</td>\n",
       "      <td>-0.553451</td>\n",
       "      <td>0.628307</td>\n",
       "      <td>0.000829</td>\n",
       "      <td>0.629142</td>\n",
       "      <td>-0.548526</td>\n",
       "    </tr>\n",
       "    <tr>\n",
       "      <th>ward</th>\n",
       "      <td>0.018140</td>\n",
       "      <td>-0.017626</td>\n",
       "      <td>-0.078030</td>\n",
       "      <td>0.671517</td>\n",
       "      <td>0.672809</td>\n",
       "      <td>1.000000</td>\n",
       "      <td>-0.538930</td>\n",
       "      <td>-0.443005</td>\n",
       "      <td>0.657247</td>\n",
       "      <td>0.013391</td>\n",
       "      <td>0.657569</td>\n",
       "      <td>-0.436712</td>\n",
       "    </tr>\n",
       "    <tr>\n",
       "      <th>community_area</th>\n",
       "      <td>-0.024397</td>\n",
       "      <td>0.032204</td>\n",
       "      <td>0.091475</td>\n",
       "      <td>-0.487524</td>\n",
       "      <td>-0.488083</td>\n",
       "      <td>-0.538930</td>\n",
       "      <td>1.000000</td>\n",
       "      <td>0.248337</td>\n",
       "      <td>-0.778231</td>\n",
       "      <td>-0.019378</td>\n",
       "      <td>-0.777515</td>\n",
       "      <td>0.238708</td>\n",
       "    </tr>\n",
       "    <tr>\n",
       "      <th>x_coordinate</th>\n",
       "      <td>0.008048</td>\n",
       "      <td>-0.032417</td>\n",
       "      <td>0.019117</td>\n",
       "      <td>-0.552613</td>\n",
       "      <td>-0.553451</td>\n",
       "      <td>-0.443005</td>\n",
       "      <td>0.248337</td>\n",
       "      <td>1.000000</td>\n",
       "      <td>-0.550703</td>\n",
       "      <td>0.012144</td>\n",
       "      <td>-0.553443</td>\n",
       "      <td>0.999920</td>\n",
       "    </tr>\n",
       "    <tr>\n",
       "      <th>y_coordinate</th>\n",
       "      <td>0.022084</td>\n",
       "      <td>-0.034031</td>\n",
       "      <td>-0.107794</td>\n",
       "      <td>0.627117</td>\n",
       "      <td>0.628307</td>\n",
       "      <td>0.657247</td>\n",
       "      <td>-0.778231</td>\n",
       "      <td>-0.550703</td>\n",
       "      <td>1.000000</td>\n",
       "      <td>0.013920</td>\n",
       "      <td>0.999995</td>\n",
       "      <td>-0.540128</td>\n",
       "    </tr>\n",
       "    <tr>\n",
       "      <th>year</th>\n",
       "      <td>0.540566</td>\n",
       "      <td>-0.068693</td>\n",
       "      <td>0.000786</td>\n",
       "      <td>0.000836</td>\n",
       "      <td>0.000829</td>\n",
       "      <td>0.013391</td>\n",
       "      <td>-0.019378</td>\n",
       "      <td>0.012144</td>\n",
       "      <td>0.013920</td>\n",
       "      <td>1.000000</td>\n",
       "      <td>0.013844</td>\n",
       "      <td>0.012469</td>\n",
       "    </tr>\n",
       "    <tr>\n",
       "      <th>latitude</th>\n",
       "      <td>0.022004</td>\n",
       "      <td>-0.033829</td>\n",
       "      <td>-0.107638</td>\n",
       "      <td>0.627952</td>\n",
       "      <td>0.629142</td>\n",
       "      <td>0.657569</td>\n",
       "      <td>-0.777515</td>\n",
       "      <td>-0.553443</td>\n",
       "      <td>0.999995</td>\n",
       "      <td>0.013844</td>\n",
       "      <td>1.000000</td>\n",
       "      <td>-0.542890</td>\n",
       "    </tr>\n",
       "    <tr>\n",
       "      <th>longitude</th>\n",
       "      <td>0.008457</td>\n",
       "      <td>-0.033202</td>\n",
       "      <td>0.017586</td>\n",
       "      <td>-0.547700</td>\n",
       "      <td>-0.548526</td>\n",
       "      <td>-0.436712</td>\n",
       "      <td>0.238708</td>\n",
       "      <td>0.999920</td>\n",
       "      <td>-0.540128</td>\n",
       "      <td>0.012469</td>\n",
       "      <td>-0.542890</td>\n",
       "      <td>1.000000</td>\n",
       "    </tr>\n",
       "  </tbody>\n",
       "</table>\n",
       "</div>"
      ],
      "text/plain": [
       "                unique_key    arrest  domestic      beat  district      ward  \\\n",
       "unique_key        1.000000 -0.057050  0.007914  0.007748  0.007800  0.018140   \n",
       "arrest           -0.057050  1.000000 -0.036254 -0.026920 -0.027044 -0.017626   \n",
       "domestic          0.007914 -0.036254  1.000000 -0.053889 -0.053885 -0.078030   \n",
       "beat              0.007748 -0.026920 -0.053889  1.000000  0.999694  0.671517   \n",
       "district          0.007800 -0.027044 -0.053885  0.999694  1.000000  0.672809   \n",
       "ward              0.018140 -0.017626 -0.078030  0.671517  0.672809  1.000000   \n",
       "community_area   -0.024397  0.032204  0.091475 -0.487524 -0.488083 -0.538930   \n",
       "x_coordinate      0.008048 -0.032417  0.019117 -0.552613 -0.553451 -0.443005   \n",
       "y_coordinate      0.022084 -0.034031 -0.107794  0.627117  0.628307  0.657247   \n",
       "year              0.540566 -0.068693  0.000786  0.000836  0.000829  0.013391   \n",
       "latitude          0.022004 -0.033829 -0.107638  0.627952  0.629142  0.657569   \n",
       "longitude         0.008457 -0.033202  0.017586 -0.547700 -0.548526 -0.436712   \n",
       "\n",
       "                community_area  x_coordinate  y_coordinate      year  \\\n",
       "unique_key           -0.024397      0.008048      0.022084  0.540566   \n",
       "arrest                0.032204     -0.032417     -0.034031 -0.068693   \n",
       "domestic              0.091475      0.019117     -0.107794  0.000786   \n",
       "beat                 -0.487524     -0.552613      0.627117  0.000836   \n",
       "district             -0.488083     -0.553451      0.628307  0.000829   \n",
       "ward                 -0.538930     -0.443005      0.657247  0.013391   \n",
       "community_area        1.000000      0.248337     -0.778231 -0.019378   \n",
       "x_coordinate          0.248337      1.000000     -0.550703  0.012144   \n",
       "y_coordinate         -0.778231     -0.550703      1.000000  0.013920   \n",
       "year                 -0.019378      0.012144      0.013920  1.000000   \n",
       "latitude             -0.777515     -0.553443      0.999995  0.013844   \n",
       "longitude             0.238708      0.999920     -0.540128  0.012469   \n",
       "\n",
       "                latitude  longitude  \n",
       "unique_key      0.022004   0.008457  \n",
       "arrest         -0.033829  -0.033202  \n",
       "domestic       -0.107638   0.017586  \n",
       "beat            0.627952  -0.547700  \n",
       "district        0.629142  -0.548526  \n",
       "ward            0.657569  -0.436712  \n",
       "community_area -0.777515   0.238708  \n",
       "x_coordinate   -0.553443   0.999920  \n",
       "y_coordinate    0.999995  -0.540128  \n",
       "year            0.013844   0.012469  \n",
       "latitude        1.000000  -0.542890  \n",
       "longitude      -0.542890   1.000000  "
      ]
     },
     "execution_count": 34,
     "metadata": {},
     "output_type": "execute_result"
    }
   ],
   "source": [
    "crimedf.corr()"
   ]
  },
  {
   "cell_type": "markdown",
   "metadata": {},
   "source": [
    "### Proportion of crime types that led to an arrest "
   ]
  },
  {
   "cell_type": "code",
   "execution_count": 35,
   "metadata": {},
   "outputs": [
    {
     "data": {
      "text/plain": [
       "primary_type\n",
       "ARSON                                0.101203\n",
       "ASSAULT                              0.199695\n",
       "BATTERY                              0.215123\n",
       "BURGLARY                             0.049025\n",
       "CONCEALED CARRY LICENSE VIOLATION    0.956835\n",
       "CRIM SEXUAL ASSAULT                  0.084989\n",
       "CRIMINAL DAMAGE                      0.059087\n",
       "CRIMINAL TRESPASS                    0.621741\n",
       "DECEPTIVE PRACTICE                   0.048924\n",
       "GAMBLING                             1.000000\n",
       "HOMICIDE                             0.295652\n",
       "HUMAN TRAFFICKING                    0.125000\n",
       "INTERFERENCE WITH PUBLIC OFFICER     0.951938\n",
       "INTIMIDATION                         0.147059\n",
       "KIDNAPPING                           0.075601\n",
       "LIQUOR LAW VIOLATION                 0.997183\n",
       "MOTOR VEHICLE THEFT                  0.091561\n",
       "NARCOTICS                            0.999611\n",
       "OBSCENITY                            0.779570\n",
       "OFFENSE INVOLVING CHILDREN           0.146733\n",
       "OTHER NARCOTIC VIOLATION             0.600000\n",
       "OTHER OFFENSE                        0.229821\n",
       "PROSTITUTION                         0.999300\n",
       "PUBLIC INDECENCY                     1.000000\n",
       "PUBLIC PEACE VIOLATION               0.726796\n",
       "ROBBERY                              0.083674\n",
       "SEX OFFENSE                          0.193929\n",
       "STALKING                             0.133981\n",
       "THEFT                                0.107483\n",
       "WEAPONS VIOLATION                    0.770221\n",
       "Name: arrest, dtype: float64"
      ]
     },
     "execution_count": 35,
     "metadata": {},
     "output_type": "execute_result"
    }
   ],
   "source": [
    "arrest = crimedf.groupby(['primary_type'])['arrest'].mean()\n",
    "arrest"
   ]
  },
  {
   "cell_type": "markdown",
   "metadata": {},
   "source": [
    "### Proportion of crime types that were domestic"
   ]
  },
  {
   "cell_type": "code",
   "execution_count": 36,
   "metadata": {},
   "outputs": [
    {
     "data": {
      "text/plain": [
       "primary_type\n",
       "ARSON                                0.041047\n",
       "ASSAULT                              0.255578\n",
       "BATTERY                              0.488735\n",
       "BURGLARY                             0.010774\n",
       "CONCEALED CARRY LICENSE VIOLATION    0.000000\n",
       "CRIM SEXUAL ASSAULT                  0.151656\n",
       "CRIMINAL DAMAGE                      0.109407\n",
       "CRIMINAL TRESPASS                    0.047897\n",
       "DECEPTIVE PRACTICE                   0.009406\n",
       "GAMBLING                             0.000000\n",
       "HOMICIDE                             0.055243\n",
       "HUMAN TRAFFICKING                    0.093750\n",
       "INTERFERENCE WITH PUBLIC OFFICER     0.006609\n",
       "INTIMIDATION                         0.129902\n",
       "KIDNAPPING                           0.314433\n",
       "LIQUOR LAW VIOLATION                 0.001408\n",
       "MOTOR VEHICLE THEFT                  0.010312\n",
       "NARCOTICS                            0.000492\n",
       "OBSCENITY                            0.236559\n",
       "OFFENSE INVOLVING CHILDREN           0.498979\n",
       "OTHER NARCOTIC VIOLATION             0.000000\n",
       "OTHER OFFENSE                        0.312727\n",
       "PROSTITUTION                         0.000000\n",
       "PUBLIC INDECENCY                     0.000000\n",
       "PUBLIC PEACE VIOLATION               0.031482\n",
       "ROBBERY                              0.016460\n",
       "SEX OFFENSE                          0.102530\n",
       "STALKING                             0.483495\n",
       "THEFT                                0.035986\n",
       "WEAPONS VIOLATION                    0.003218\n",
       "Name: domestic, dtype: float64"
      ]
     },
     "execution_count": 36,
     "metadata": {},
     "output_type": "execute_result"
    }
   ],
   "source": [
    "domestic = crimedf.groupby(['primary_type'])['domestic'].mean()\n",
    "domestic"
   ]
  },
  {
   "cell_type": "markdown",
   "metadata": {},
   "source": [
    "### Top Crimes in Chicago in the year 2016, 2017 and 2018 "
   ]
  },
  {
   "cell_type": "code",
   "execution_count": 37,
   "metadata": {},
   "outputs": [
    {
     "data": {
      "image/png": "[encoded data removed]",
      "text/plain": [
       "<Figure size 720x720 with 1 Axes>"
      ]
     },
     "metadata": {},
     "output_type": "display_data"
    }
   ],
   "source": [
    "plt.figure(figsize=(10,10))\n",
    "sns.countplot(y = 'primary_type', data = crimedf, order = crimedf['primary_type'].value_counts().index,palette=\"Blues_d\")\n",
    "plt.xticks(rotation = 'vertical')\n",
    "plt.xlabel('Crime Type')\n",
    "plt.ylabel('No. of Crimes')\n",
    "plt.title ('Chicago Crimes')\n",
    "plt.show()"
   ]
  },
  {
   "cell_type": "markdown",
   "metadata": {},
   "source": [
    "# Hypothesis"
   ]
  },
  {
   "cell_type": "markdown",
   "metadata": {},
   "source": [
    "1. Is there any significant change in the number of crimes over the 3 years  \n",
    "2. Do more crimes tend to occur on a particular day of the week and month\n",
    "3. Which crime led to most number of arrests \n",
    "4. Top 10 locations that are more prone to crimes\n",
    "5. What time of the day most crimes occur "
   ]
  },
  {
   "cell_type": "markdown",
   "metadata": {},
   "source": [
    "# Overall 3 years Analysis "
   ]
  },
  {
   "cell_type": "markdown",
   "metadata": {},
   "source": [
    "## 1. Is there any significant change in the number of crimes over the 3 years ?"
   ]
  },
  {
   "cell_type": "markdown",
   "metadata": {},
   "source": [
    "### Comparison on the number of crimes each each year "
   ]
  },
  {
   "cell_type": "code",
   "execution_count": 38,
   "metadata": {},
   "outputs": [
    {
     "data": {
      "text/html": [
       "<div>\n",
       "<style scoped>\n",
       "    .dataframe tbody tr th:only-of-type {\n",
       "        vertical-align: middle;\n",
       "    }\n",
       "\n",
       "    .dataframe tbody tr th {\n",
       "        vertical-align: top;\n",
       "    }\n",
       "\n",
       "    .dataframe thead th {\n",
       "        text-align: right;\n",
       "    }\n",
       "</style>\n",
       "<table border=\"1\" class=\"dataframe\">\n",
       "  <thead>\n",
       "    <tr style=\"text-align: right;\">\n",
       "      <th></th>\n",
       "      <th>year</th>\n",
       "      <th>crime_count</th>\n",
       "    </tr>\n",
       "  </thead>\n",
       "  <tbody>\n",
       "    <tr>\n",
       "      <th>0</th>\n",
       "      <td>2015</td>\n",
       "      <td>263817</td>\n",
       "    </tr>\n",
       "    <tr>\n",
       "      <th>1</th>\n",
       "      <td>2016</td>\n",
       "      <td>268661</td>\n",
       "    </tr>\n",
       "    <tr>\n",
       "      <th>2</th>\n",
       "      <td>2017</td>\n",
       "      <td>267572</td>\n",
       "    </tr>\n",
       "  </tbody>\n",
       "</table>\n",
       "</div>"
      ],
      "text/plain": [
       "   year  crime_count\n",
       "0  2015       263817\n",
       "1  2016       268661\n",
       "2  2017       267572"
      ]
     },
     "execution_count": 38,
     "metadata": {},
     "output_type": "execute_result"
    }
   ],
   "source": [
    "crime_year = crimedf[['unique_key','year']].groupby(['year']).count()\n",
    "crime_year = crime_year.reset_index(level=['year'])\n",
    "crime_year = crime_year.rename(columns={\"unique_key\": \"crime_count\"})\n",
    "crime_year"
   ]
  },
  {
   "cell_type": "code",
   "execution_count": 39,
   "metadata": {},
   "outputs": [
    {
     "data": {
      "image/png": "[encoded data removed]",
      "text/plain": [
       "<Figure size 432x288 with 1 Axes>"
      ]
     },
     "metadata": {},
     "output_type": "display_data"
    }
   ],
   "source": [
    "sns.countplot (x = 'year', data = crimedf)\n",
    "plt.ylabel ('No. of Crimes')\n",
    "plt.xlabel('Year')\n",
    "plt.title('Total Number of crimes per year')\n",
    "plt.show()"
   ]
  },
  {
   "cell_type": "markdown",
   "metadata": {},
   "source": [
    "We can see that the total number of crimes across the three years is almost same. Thus there is no signicant change overall."
   ]
  },
  {
   "cell_type": "code",
   "execution_count": 40,
   "metadata": {},
   "outputs": [
    {
     "data": {
      "image/png": "[encoded data removed]",
      "text/plain": [
       "<Figure size 1080x720 with 1 Axes>"
      ]
     },
     "metadata": {},
     "output_type": "display_data"
    }
   ],
   "source": [
    "months=['Jan','Feb','Mar','Apr','May','Jun','Jul','Aug','Sep','Oct','Nov','Dec']\n",
    "crimedf.groupby(['month','year'])['unique_key'].count().unstack().plot(marker='o',figsize = (15,10))\n",
    "plt.xticks(np.arange(12),months)\n",
    "plt.xlabel('Month')\n",
    "plt.ylabel('No of Crimes')\n",
    "plt.title('Monthly Crime per year')\n",
    "plt.show()"
   ]
  },
  {
   "cell_type": "markdown",
   "metadata": {},
   "source": [
    "Although, there is no significant change overall, we can see that number of crimes has increased in the Month of Feb significantly since 2015."
   ]
  },
  {
   "cell_type": "markdown",
   "metadata": {},
   "source": [
    "## 2. Do more crimes tend to occur on a particular day of the week and month?"
   ]
  },
  {
   "cell_type": "markdown",
   "metadata": {},
   "source": [
    "### No of crimes recorded on days of the week"
   ]
  },
  {
   "cell_type": "code",
   "execution_count": 41,
   "metadata": {},
   "outputs": [
    {
     "data": {
      "text/plain": [
       "Friday       120180\n",
       "Saturday     115886\n",
       "Thursday     113956\n",
       "Monday       113245\n",
       "Sunday       112494\n",
       "Tuesday      112234\n",
       "Wednesday    112055\n",
       "Name: weekday, dtype: int64"
      ]
     },
     "execution_count": 41,
     "metadata": {},
     "output_type": "execute_result"
    }
   ],
   "source": [
    "weekdaycrime = crimedf['weekday'].value_counts()\n",
    "weekdaycrime"
   ]
  },
  {
   "cell_type": "code",
   "execution_count": 42,
   "metadata": {},
   "outputs": [
    {
     "data": {
      "image/png": "[encoded data removed]",
      "text/plain": [
       "<Figure size 432x288 with 1 Axes>"
      ]
     },
     "metadata": {},
     "output_type": "display_data"
    }
   ],
   "source": [
    "weekdays = ['Monday', 'Tuesday', 'Wednesday','Thursday', 'Friday', 'Saturday', 'Sunday']\n",
    "crimedf.groupby('weekday')['unique_key'].count().plot(marker = 'o')\n",
    "plt.xticks(np.arange(7),weekdays)\n",
    "plt.ylabel('No.of Crimes')\n",
    "plt.title('No of crimes recorded on days of the week')\n",
    "plt.show()"
   ]
  },
  {
   "cell_type": "markdown",
   "metadata": {},
   "source": [
    "We can see that most of the crimes occur on a Friday and Saturday"
   ]
  },
  {
   "cell_type": "markdown",
   "metadata": {},
   "source": [
    "### No of crimes recorded per month"
   ]
  },
  {
   "cell_type": "code",
   "execution_count": 43,
   "metadata": {},
   "outputs": [
    {
     "data": {
      "text/plain": [
       "Aug    74210\n",
       "Jul    73741\n",
       "Jun    70840\n",
       "May    70412\n",
       "Oct    69494\n",
       "Sep    69393\n",
       "Apr    64364\n",
       "Mar    64082\n",
       "Nov    63603\n",
       "Jan    63335\n",
       "Dec    62363\n",
       "Feb    54213\n",
       "Name: month, dtype: int64"
      ]
     },
     "execution_count": 43,
     "metadata": {},
     "output_type": "execute_result"
    }
   ],
   "source": [
    "monthlycrime = crimedf['month'].value_counts()\n",
    "monthlycrime"
   ]
  },
  {
   "cell_type": "code",
   "execution_count": 44,
   "metadata": {},
   "outputs": [
    {
     "data": {
      "text/plain": [
       "66670.83333333333"
      ]
     },
     "execution_count": 44,
     "metadata": {},
     "output_type": "execute_result"
    }
   ],
   "source": [
    "#Average number of Crimes each month \n",
    "monthlyavgcrime = crimedf['month'].value_counts().mean()\n",
    "monthlyavgcrime"
   ]
  },
  {
   "cell_type": "code",
   "execution_count": 45,
   "metadata": {},
   "outputs": [
    {
     "data": {
      "image/png": "[encoded data removed]",
      "text/plain": [
       "<Figure size 432x288 with 1 Axes>"
      ]
     },
     "metadata": {},
     "output_type": "display_data"
    }
   ],
   "source": [
    "months=['Jan','Feb','Mar','Apr','May','Jun','Jul','Aug','Sep','Oct','Nov','Dec']\n",
    "crimedf.groupby('month')['unique_key'].count().plot(marker = 'o')\n",
    "plt.xticks(np.arange(12),months)\n",
    "plt.ylabel('No.of Crimes')\n",
    "plt.title('No of crimes recorded per month')\n",
    "plt.show()"
   ]
  },
  {
   "cell_type": "markdown",
   "metadata": {},
   "source": [
    " We can see that most of crimes occur in the month of August"
   ]
  },
  {
   "cell_type": "markdown",
   "metadata": {},
   "source": [
    "## 3.Which crime led to most number of arrests "
   ]
  },
  {
   "cell_type": "code",
   "execution_count": 46,
   "metadata": {},
   "outputs": [
    {
     "data": {
      "image/png": "[encoded data removed]",
      "text/plain": [
       "<Figure size 1080x720 with 1 Axes>"
      ]
     },
     "metadata": {},
     "output_type": "display_data"
    }
   ],
   "source": [
    "plt.figure(figsize=(15,10))\n",
    "sns.countplot(x='primary_type',hue='arrest',data=crimedf,order=crimedf['primary_type'].value_counts().index)\n",
    "plt.xticks(rotation='vertical')\n",
    "plt.ylabel('No of Crimes')\n",
    "plt.xlabel('Crime Type')\n",
    "plt.show()"
   ]
  },
  {
   "cell_type": "markdown",
   "metadata": {},
   "source": [
    "Although Theft has the most number of crimes majority of the theft crimes were not arrested. The most arrested crime is Narcotics"
   ]
  },
  {
   "cell_type": "markdown",
   "metadata": {},
   "source": [
    "## 4. Top 10 locations that are more prone to crimes"
   ]
  },
  {
   "cell_type": "code",
   "execution_count": 47,
   "metadata": {},
   "outputs": [
    {
     "data": {
      "image/png": "[encoded data removed]",
      "text/plain": [
       "<Figure size 720x720 with 1 Axes>"
      ]
     },
     "metadata": {},
     "output_type": "display_data"
    }
   ],
   "source": [
    "plt.figure(figsize=(10,10))\n",
    "sns.countplot(x = 'location_description', data = crimedf, order = crimedf['location_description'].value_counts().iloc[:10].index)\n",
    "plt.xticks(rotation = 'vertical')\n",
    "plt.xlabel('Crime Type')\n",
    "plt.ylabel('No of crimes')\n",
    "plt.title ('Chicago Crimes per District')\n",
    "plt.show()"
   ]
  },
  {
   "cell_type": "markdown",
   "metadata": {},
   "source": [
    "Most crimes tend to occur on the Street"
   ]
  },
  {
   "cell_type": "markdown",
   "metadata": {},
   "source": [
    "## 5. What time of the day most crimes occur "
   ]
  },
  {
   "cell_type": "code",
   "execution_count": 48,
   "metadata": {},
   "outputs": [
    {
     "data": {
      "image/png": "[encoded data removed]",
      "text/plain": [
       "<Figure size 720x720 with 2 Axes>"
      ]
     },
     "metadata": {},
     "output_type": "display_data"
    }
   ],
   "source": [
    "plt.figure(figsize=(10,10))\n",
    "temp= crimedf.pivot_table(values='unique_key', index='primary_type',columns=crimedf['date'].dt.hour, aggfunc=np.size)\n",
    "sns.heatmap(temp,cmap=\"RdBu_r\",vmax=12000)\n",
    "plt.xlabel('Hours of the day')\n",
    "plt.ylabel('Type of Crime')\n",
    "plt.show()"
   ]
  },
  {
   "cell_type": "markdown",
   "metadata": {},
   "source": [
    "Most crimes occur around 12PM-8PM and most of them are Theft and Battery crimes."
   ]
  },
  {
   "cell_type": "markdown",
   "metadata": {},
   "source": [
    "## Overall Results"
   ]
  },
  {
   "cell_type": "markdown",
   "metadata": {},
   "source": [
    "- Average Crime per month is approx. 66671\n",
    "- Crimes mostly happened on a Friday & Saturday and they are minimum mid-week on Wednesdays & Tuesdays\n",
    "- Crime frequency is Maximum in August and Minimum in February\n",
    "- STREET is the most Crime prone area location in Chicago. \n",
    "- Most of the crimes tend to occur during the afternoon between 12PM - 8PM. "
   ]
  },
  {
   "cell_type": "markdown",
   "metadata": {},
   "source": [
    "# Individual Years Analysis"
   ]
  },
  {
   "cell_type": "markdown",
   "metadata": {},
   "source": [
    "### 2015"
   ]
  },
  {
   "cell_type": "code",
   "execution_count": 49,
   "metadata": {},
   "outputs": [],
   "source": [
    "#2015 data \n",
    "crimedf_2015=crimedf[crimedf['year']==2015]\n",
    "#crimedf_2015"
   ]
  },
  {
   "cell_type": "markdown",
   "metadata": {},
   "source": [
    "### No of crimes recorded on days of the week in 2015"
   ]
  },
  {
   "cell_type": "code",
   "execution_count": 50,
   "metadata": {},
   "outputs": [
    {
     "data": {
      "text/plain": [
       "Friday       39023\n",
       "Thursday     38216\n",
       "Saturday     37992\n",
       "Wednesday    37316\n",
       "Sunday       37303\n",
       "Monday       37006\n",
       "Tuesday      36961\n",
       "Name: weekday, dtype: int64"
      ]
     },
     "execution_count": 50,
     "metadata": {},
     "output_type": "execute_result"
    }
   ],
   "source": [
    "weekdaycrime2015 = crimedf_2015['weekday'].value_counts()\n",
    "weekdaycrime2015"
   ]
  },
  {
   "cell_type": "markdown",
   "metadata": {},
   "source": [
    "### No of crimes recorded per month in 2015"
   ]
  },
  {
   "cell_type": "code",
   "execution_count": 51,
   "metadata": {},
   "outputs": [],
   "source": [
    "monthlycrime2015 = crimedf_2015['month'].value_counts()\n",
    "#monthlycrime2015"
   ]
  },
  {
   "cell_type": "markdown",
   "metadata": {},
   "source": [
    "### 2016"
   ]
  },
  {
   "cell_type": "code",
   "execution_count": 52,
   "metadata": {},
   "outputs": [],
   "source": [
    "#2016 data \n",
    "crimedf_2016=crimedf[crimedf['year']==2016]\n",
    "#crimedf_2016"
   ]
  },
  {
   "cell_type": "markdown",
   "metadata": {},
   "source": [
    "### No of crimes recorded on days of the week in 2016"
   ]
  },
  {
   "cell_type": "code",
   "execution_count": 53,
   "metadata": {},
   "outputs": [
    {
     "data": {
      "text/plain": [
       "Friday       41143\n",
       "Saturday     39331\n",
       "Thursday     38181\n",
       "Monday       38107\n",
       "Tuesday      37594\n",
       "Wednesday    37282\n",
       "Sunday       37023\n",
       "Name: weekday, dtype: int64"
      ]
     },
     "execution_count": 53,
     "metadata": {},
     "output_type": "execute_result"
    }
   ],
   "source": [
    "weekdaycrime2016 = crimedf_2016['weekday'].value_counts()\n",
    "weekdaycrime2016"
   ]
  },
  {
   "cell_type": "markdown",
   "metadata": {},
   "source": [
    "### No of crimes recorded per month in 2016"
   ]
  },
  {
   "cell_type": "code",
   "execution_count": 54,
   "metadata": {},
   "outputs": [
    {
     "data": {
      "text/plain": [
       "Aug    24834\n",
       "Jul    24806\n",
       "Jun    23989\n",
       "Oct    23674\n",
       "Sep    23606\n",
       "May    23473\n",
       "Mar    21977\n",
       "Nov    21679\n",
       "Apr    21088\n",
       "Jan    20567\n",
       "Dec    20302\n",
       "Feb    18666\n",
       "Name: month, dtype: int64"
      ]
     },
     "execution_count": 54,
     "metadata": {},
     "output_type": "execute_result"
    }
   ],
   "source": [
    "monthlycrime2016 = crimedf_2016['month'].value_counts()\n",
    "monthlycrime2016"
   ]
  },
  {
   "cell_type": "markdown",
   "metadata": {},
   "source": [
    "### 2017"
   ]
  },
  {
   "cell_type": "code",
   "execution_count": 55,
   "metadata": {},
   "outputs": [],
   "source": [
    "#2017 data \n",
    "crimedf_2017=crimedf[crimedf['year']==2017]\n",
    "#crimedf_2017"
   ]
  },
  {
   "cell_type": "markdown",
   "metadata": {},
   "source": [
    "### No of crimes recorded on days of the week in 2017"
   ]
  },
  {
   "cell_type": "code",
   "execution_count": 56,
   "metadata": {},
   "outputs": [
    {
     "data": {
      "text/plain": [
       "Friday       40014\n",
       "Saturday     38563\n",
       "Sunday       38168\n",
       "Monday       38132\n",
       "Tuesday      37679\n",
       "Thursday     37559\n",
       "Wednesday    37457\n",
       "Name: weekday, dtype: int64"
      ]
     },
     "execution_count": 56,
     "metadata": {},
     "output_type": "execute_result"
    }
   ],
   "source": [
    "weekdaycrime2017 = crimedf_2017['weekday'].value_counts()\n",
    "weekdaycrime2017"
   ]
  },
  {
   "cell_type": "markdown",
   "metadata": {},
   "source": [
    "### No of crimes recorded per month in 2017¶"
   ]
  },
  {
   "cell_type": "code",
   "execution_count": 57,
   "metadata": {},
   "outputs": [
    {
     "data": {
      "text/plain": [
       "Jul    24764\n",
       "Aug    24631\n",
       "Jun    23739\n",
       "May    23303\n",
       "Oct    22794\n",
       "Sep    22734\n",
       "Jan    21954\n",
       "Apr    21605\n",
       "Nov    21389\n",
       "Dec    20967\n",
       "Mar    20481\n",
       "Feb    19211\n",
       "Name: month, dtype: int64"
      ]
     },
     "execution_count": 57,
     "metadata": {},
     "output_type": "execute_result"
    }
   ],
   "source": [
    "monthlycrime2017 = crimedf_2017['month'].value_counts()\n",
    "monthlycrime2017"
   ]
  },
  {
   "cell_type": "markdown",
   "metadata": {},
   "source": [
    "## Comparison of crimes on weekdays in each year"
   ]
  },
  {
   "cell_type": "code",
   "execution_count": 58,
   "metadata": {},
   "outputs": [
    {
     "data": {
      "image/png": "[encoded data removed]",
      "text/plain": [
       "<Figure size 1080x720 with 1 Axes>"
      ]
     },
     "metadata": {},
     "output_type": "display_data"
    }
   ],
   "source": [
    "crimedf.groupby(['weekday','year'])['unique_key'].count().unstack().plot(kind='bar', figsize = (15,10))\n",
    "plt.ylabel('No of crimes')\n",
    "plt.xlabel('Weekday')\n",
    "plt.title('Comparison of crimes per weekday in each year')\n",
    "plt.show()"
   ]
  },
  {
   "cell_type": "markdown",
   "metadata": {},
   "source": [
    "## Comparison of crimes per month in each year"
   ]
  },
  {
   "cell_type": "code",
   "execution_count": 59,
   "metadata": {},
   "outputs": [
    {
     "data": {
      "image/png": "[encoded data removed]",
      "text/plain": [
       "<Figure size 1080x720 with 1 Axes>"
      ]
     },
     "metadata": {},
     "output_type": "display_data"
    }
   ],
   "source": [
    "crimedf.groupby(['month','year'])['unique_key'].count().unstack().plot(kind='bar', figsize = (15,10))\n",
    "plt.ylabel('No of crimes')\n",
    "plt.xlabel('Month')\n",
    "plt.title('Comparison of crimes per month in each year')\n",
    "plt.show()"
   ]
  },
  {
   "cell_type": "markdown",
   "metadata": {},
   "source": [
    "For 2015 and 2016 the most crimes occured on a Friday and in the month of August. However, for 2017 the most crimes happened in the month of July. However, Friday still remained the day with the most number of crimes"
   ]
  },
  {
   "cell_type": "markdown",
   "metadata": {},
   "source": [
    "### Was Theft the most common crime in all the three years as well? "
   ]
  },
  {
   "cell_type": "code",
   "execution_count": 60,
   "metadata": {},
   "outputs": [
    {
     "data": {
      "image/png": "[encoded data removed]",
      "text/plain": [
       "<Figure size 1440x720 with 1 Axes>"
      ]
     },
     "metadata": {},
     "output_type": "display_data"
    }
   ],
   "source": [
    "crimedf.groupby(['primary_type','year'])['unique_key'].count().unstack().plot(kind='bar', stacked = True ,figsize = (20,10))\n",
    "plt.ylabel('No of crimes')\n",
    "plt.xlabel('Month')\n",
    "plt.title('Comparison of crime types per month in each year')\n",
    "plt.show()"
   ]
  },
  {
   "cell_type": "markdown",
   "metadata": {},
   "source": [
    "We can see that Theft has been the most common crime in all the three years. "
   ]
  }
 ],
 "metadata": {
  "kernelspec": {
   "display_name": "Python 3",
   "language": "python",
   "name": "python3"
  },
  "language_info": {
   "codemirror_mode": {
    "name": "ipython",
    "version": 3
   },
   "file_extension": ".py",
   "mimetype": "text/x-python",
   "name": "python",
   "nbconvert_exporter": "python",
   "pygments_lexer": "ipython3",
   "version": "3.6.5"
  }
 },
 "nbformat": 4,
 "nbformat_minor": 2
}
